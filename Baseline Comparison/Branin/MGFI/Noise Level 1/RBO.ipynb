{
 "cells": [
  {
   "cell_type": "code",
   "execution_count": 2,
   "metadata": {
    "id": "zW1q2UJkDHP1"
   },
   "outputs": [],
   "source": [
    "import numpy as np\n",
    "import pandas as pd\n",
    "import Utils\n",
    "from smt.sampling_methods import LHS\n",
    "import pickle\n",
    "from smt.problems import Branin\n",
    "from scipy.optimize import minimize\n",
    "from scipy.optimize import Bounds\n",
    "from sklearn.gaussian_process import GaussianProcessRegressor\n",
    "from sklearn.gaussian_process.kernels import RBF, Matern\n",
    "from sklearn.preprocessing import StandardScaler\n",
    "from sklearn.preprocessing import MinMaxScaler\n",
    "import matplotlib.pyplot as plt\n",
    "from matplotlib import cm\n",
    "from matplotlib import rcParams\n",
    "from matplotlib.transforms import offset_copy\n",
    "import random\n",
    "from collections import namedtuple\n",
    "plt.style.use('ggplot')"
   ]
  },
  {
   "cell_type": "markdown",
   "metadata": {
    "id": "AoNyBOGV507v"
   },
   "source": [
    "## Bayesian Optimization"
   ]
  },
  {
   "cell_type": "code",
   "execution_count": 3,
   "metadata": {
    "id": "XbIioyOH507w"
   },
   "outputs": [],
   "source": [
    "def bayesian_optimisation(n_iters, bounds, x0, alpha = 1e-5, epsilon = 1e-7, t0 = 2, tf = 1e-3):\n",
    "    \n",
    "    \"\"\" bayesian_optimisation\n",
    "    Uses Gaussian Processes \n",
    "    Arguments:\n",
    "    ----------\n",
    "        n_iters: integer.\n",
    "            Number of iterations to run the search algorithm.\n",
    "        bounds: array-like, shape = [n_params, 2].\n",
    "            Lower and upper bounds on the parameters of the function.\n",
    "        x0: array-like, shape = [n_pre_samples, n_params].\n",
    "            Array of initial points to sample the objective function. \n",
    "        alpha: double.\n",
    "            Variance of the error term of the GP.\n",
    "        epsilon: double.\n",
    "            Precision tolerance for floats.\n",
    "    \"\"\"\n",
    "    t = t0\n",
    "    alp = np.power(tf / t0, 1/n_iters)\n",
    "    f_x = np.zeros(n_iters) \n",
    "    \n",
    "    n_params = 2\n",
    "    x_list = []\n",
    "    y_list = []\n",
    "    \n",
    "    for params in x0:\n",
    "        x_list.append(params)\n",
    "        y_list.append(Utils.branin(params))\n",
    "        \n",
    "    xp = np.array(x_list)\n",
    "    yp = np.array(y_list)\n",
    "\n",
    "    \n",
    "    for n in range(n_iters):\n",
    "        \n",
    "        scaler = MinMaxScaler().fit(xp)\n",
    "        \n",
    "        kernel = Matern(nu = 3/2) \n",
    "        model = GaussianProcessRegressor(kernel = kernel, alpha = alpha, n_restarts_optimizer = 15, normalize_y = True, random_state = 0)\n",
    "        model.fit(scaler.transform(xp),yp) #fit the model\n",
    "        \n",
    "        opt = Utils.find_robust_optimum (Model = model, Scaler = scaler) #find reference robust optimum\n",
    "        \n",
    "        #loc = Utils.find_robust_optimum_location (Model = model, Scaler = scaler)\n",
    "        #noise = Utils.noise(Point = loc , Model = model, Scaler = scaler)\n",
    "        #f_x[n] = Utils.branin(loc.reshape(1,-1) + noise.reshape(1,-1))\n",
    "        f_x[n] = opt\n",
    "        \n",
    "        next_sample = Utils.sample_next_point (acquisition_func = Utils.MGFI, \n",
    "                                               Model = model, robust_optimum = opt,  temp = t, Scaler = scaler) #find next sample point by maximizing acquisiotn function\n",
    "\n",
    "        \n",
    "        if np.any(np.abs(next_sample - xp) <= epsilon):\n",
    "            #print ('Iteration----'+str(n+1)+': Duplicate Sample Point')\n",
    "            continue\n",
    "        \n",
    "        \n",
    "        score = Utils.branin (next_sample)\n",
    "\n",
    "        # Update lists\n",
    "        x_list.append(next_sample.ravel())\n",
    "        y_list.append(score)\n",
    "        \n",
    "        # Update xp and yp\n",
    "        xp = np.array(x_list)\n",
    "        yp = np.array(y_list)\n",
    "\n",
    "        #update temperature\n",
    "        t = alp * t\n",
    "        \n",
    "    return xp, yp, opt, model, f_x"
   ]
  },
  {
   "cell_type": "markdown",
   "metadata": {
    "id": "JO7zJejs507x"
   },
   "source": [
    "## 1. Set the Global Parameters"
   ]
  },
  {
   "cell_type": "code",
   "execution_count": 4,
   "metadata": {
    "colab": {
     "base_uri": "https://localhost:8080/"
    },
    "id": "zSM5pfxI507x",
    "outputId": "56e23ae3-3698-48ab-e15f-c44a2f30ca23"
   },
   "outputs": [
    {
     "name": "stdout",
     "output_type": "stream",
     "text": [
      "Global Parameters Set..............\n"
     ]
    }
   ],
   "source": [
    "n = 20\n",
    "n_total =  120\n",
    "dimensionality = 2\n",
    "bounds = ((-4.25,9.25),(0.75,14.25))\n",
    "xlimits = np.array([[-5,10],[0,15]])\n",
    "print ('Global Parameters Set..............')"
   ]
  },
  {
   "cell_type": "markdown",
   "metadata": {
    "id": "1WZGI3SL5078"
   },
   "source": [
    "## 2. Choose Initial Samples and run Bayesian Optimization"
   ]
  },
  {
   "cell_type": "code",
   "execution_count": null,
   "metadata": {
    "colab": {
     "base_uri": "https://localhost:8080/"
    },
    "id": "pW7zgY495079",
    "outputId": "2856e2bd-f829-406e-e958-928dc86fa6fb"
   },
   "outputs": [
    {
     "name": "stdout",
     "output_type": "stream",
     "text": [
      "1\n",
      "2\n",
      "3\n",
      "4\n",
      "5\n",
      "6\n"
     ]
    }
   ],
   "source": [
    "runs = 25\n",
    "res = []\n",
    "for run in range(runs):\n",
    "    print (run + 1)\n",
    "    X = Utils.DOE(n_obs = n , xlimits = xlimits, random_state = run + 1 , criterion = 'm' )\n",
    "    Temp = bayesian_optimisation( n_iters = n_total-n , bounds = bounds, x0 = X, t0 = 3.2371127309367878, tf = 0.1)\n",
    "    res.append(Temp)\n",
    "pickle.dump(res, open(\"res.p\", \"wb\"))"
   ]
  }
 ],
 "metadata": {
  "colab": {
   "collapsed_sections": [],
   "name": "Branin---MGFI-NL=1.ipynb",
   "provenance": []
  },
  "kernelspec": {
   "display_name": "Python 3",
   "language": "python",
   "name": "python3"
  },
  "language_info": {
   "codemirror_mode": {
    "name": "ipython",
    "version": 3
   },
   "file_extension": ".py",
   "mimetype": "text/x-python",
   "name": "python",
   "nbconvert_exporter": "python",
   "pygments_lexer": "ipython3",
   "version": "3.7.0"
  }
 },
 "nbformat": 4,
 "nbformat_minor": 1
}
